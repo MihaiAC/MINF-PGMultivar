{
 "cells": [
  {
   "cell_type": "code",
   "execution_count": 1,
   "outputs": [],
   "source": [
    "import numpy as np\n",
    "import matplotlib.pyplot as plt\n",
    "from typing import Optional\n",
    "from math import ceil\n",
    "\n",
    "from sqlitedict import SqliteDict\n",
    "\n",
    "from mpgm.mpgm.sample_generation.gibbs_samplers import *\n",
    "from mpgm.mpgm.sample_generation.graph_generators import *\n",
    "from mpgm.mpgm.sample_generation.weight_assigners import *\n",
    "from mpgm.mpgm.generating_samples import SampleParamsSave, SampleParamsWrapper\n",
    "\n",
    "from mpgm.mpgm.models.TPGM import TPGM\n",
    "from mpgm.mpgm.models.Model import Model\n",
    "\n",
    "from mpgm.mpgm.model_fitters.prox_grad_fitters import Prox_Grad_Fitter\n",
    "\n",
    "from mpgm.mpgm.fitting_models import FitParamsSave, FitParamsWrapper\n",
    "\n",
    "from mpgm.mpgm.evaluation_functions import *\n",
    "\n"
   ],
   "metadata": {
    "collapsed": false,
    "pycharm": {
     "name": "#%%\n"
    }
   }
  },
  {
   "cell_type": "code",
   "execution_count": 2,
   "outputs": [],
   "source": [
    "# fit_file_name = \"fit_models.sqlite\"\n",
    "# samples_file_name = \"samples.sqlite\"\n",
    "# SPS = SampleParamsWrapper.load_samples(\"PleaseWork\", samples_file_name)\n",
    "# FPS = FitParamsWrapper.load_fit(\"\", fit_file_name)"
   ],
   "metadata": {
    "collapsed": false,
    "pycharm": {
     "name": "#%%\n"
    }
   }
  },
  {
   "cell_type": "code",
   "execution_count": 3,
   "outputs": [],
   "source": [
    "def get_sample_name(experiment_name:str, batch_nr:int, sample_nr:int) -> str:\n",
    "    sample_name = experiment_name + \"_batch_\" + str(batch_nr) + \"_sample_\" + str(sample_nr)\n",
    "    return sample_name\n",
    "\n",
    "def get_fit_sample_name(experiment_name:str, batch_nr:int, sample_nr:int) -> str:\n",
    "    return \"fit_\" + get_sample_name(experiment_name, batch_nr, sample_nr)\n",
    "\n",
    "def generate_batch_samples_vary_seed(SPW:SampleParamsWrapper, experiment_name:str, batch_nr:int, samples_per_batch:int,\n",
    "                                     random_seeds:List[int], samples_file_name:str):\n",
    "    assert samples_per_batch == len(random_seeds), \"Must have the same number of random seeds as the number of samples you \" \\\n",
    "                                            \"want to generate\"\n",
    "    for sample_nr in range(samples_per_batch):\n",
    "        SPW.random_seed = random_seeds[sample_nr]\n",
    "        sample_name = get_sample_name(experiment_name, batch_nr, sample_nr)\n",
    "        SPW.generate_samples_and_save(sample_name, samples_file_name)\n",
    "        print(\"Sampling \" + sample_name + \" finished.\")\n",
    "\n",
    "def vary_nr_samples_and_generate_samples(SPW:SampleParamsWrapper, experiment_name:str, samples_per_batch:int,\n",
    "                                         samples_file_name:str, samples_numbers:List[int]):\n",
    "    nr_batches = len(samples_numbers)\n",
    "    random_seeds = range(samples_per_batch)\n",
    "    for batch_nr, nr_samples in enumerate(samples_numbers):\n",
    "        SPW.nr_samples = nr_samples\n",
    "        generate_batch_samples_vary_seed(SPW, experiment_name, batch_nr, samples_per_batch, random_seeds,\n",
    "                                         samples_file_name)"
   ],
   "metadata": {
    "collapsed": false,
    "pycharm": {
     "name": "#%%\n"
    }
   }
  },
  {
   "cell_type": "code",
   "execution_count": null,
   "outputs": [],
   "source": [
    "def fit_all_batches_all_samples(FPW:FitParamsWrapper, fit_file_name:str, experiment_name:str, samples_per_batch:int,\n",
    "                                nr_batches:int, theta_init:np.ndarray):\n",
    "    for batch_nr in range(nr_batches):\n",
    "        for sample_nr in range(samples_per_batch):\n",
    "            sample_name = get_sample_name(experiment_name, batch_nr, sample_nr)\n",
    "            fit_id = get_fit_sample_name(experiment_name, batch_nr, sample_nr)\n",
    "            FPW.fit_model_and_save(fit_id, fit_file_name, samples_id=sample_name, theta_init=theta_init)"
   ],
   "metadata": {
    "collapsed": false,
    "pycharm": {
     "name": "#%%\n"
    }
   }
  },
  {
   "cell_type": "code",
   "execution_count": 4,
   "outputs": [
    {
     "name": "stderr",
     "output_type": "stream",
     "text": [
      "100%|██████████| 651/651 [00:01<00:00, 627.12it/s]\n",
      "100%|██████████| 651/651 [00:00<00:00, 663.12it/s]\n",
      "100%|██████████| 651/651 [00:00<00:00, 664.36it/s]\n",
      "100%|██████████| 651/651 [00:00<00:00, 659.46it/s]\n",
      "100%|██████████| 651/651 [00:01<00:00, 645.73it/s]\n",
      "100%|██████████| 1651/1651 [00:02<00:00, 641.78it/s]\n",
      "100%|██████████| 1651/1651 [00:02<00:00, 649.76it/s]\n",
      "100%|██████████| 1651/1651 [00:02<00:00, 654.46it/s]\n",
      "100%|██████████| 1651/1651 [00:02<00:00, 677.04it/s]\n",
      "100%|██████████| 1651/1651 [00:02<00:00, 679.53it/s]\n",
      "100%|██████████| 5151/5151 [00:07<00:00, 669.44it/s]\n",
      "100%|██████████| 5151/5151 [00:07<00:00, 672.74it/s]\n",
      "100%|██████████| 5151/5151 [00:07<00:00, 670.17it/s]\n",
      "100%|██████████| 5151/5151 [00:07<00:00, 665.86it/s]\n",
      "100%|██████████| 5151/5151 [00:08<00:00, 642.37it/s]\n",
      "100%|██████████| 15151/15151 [00:22<00:00, 671.61it/s]\n",
      "100%|██████████| 15151/15151 [00:22<00:00, 667.33it/s]\n",
      "100%|██████████| 15151/15151 [00:22<00:00, 668.41it/s]\n",
      "100%|██████████| 15151/15151 [00:22<00:00, 662.55it/s]\n",
      "100%|██████████| 15151/15151 [00:24<00:00, 613.31it/s]\n",
      "100%|██████████| 30151/30151 [00:50<00:00, 595.12it/s]\n",
      "100%|██████████| 30151/30151 [00:46<00:00, 645.06it/s]\n",
      "100%|██████████| 30151/30151 [00:46<00:00, 647.57it/s]\n",
      "100%|██████████| 30151/30151 [00:46<00:00, 649.91it/s]\n",
      "100%|██████████| 30151/30151 [00:46<00:00, 648.34it/s]\n"
     ]
    },
    {
     "name": "stdout",
     "output_type": "stream",
     "text": [
      "Sampling lattice_same_neg_weight_vary_nr_samples_batch_0_sample_0 finished.\n",
      "Sampling lattice_same_neg_weight_vary_nr_samples_batch_0_sample_1 finished.\n",
      "Sampling lattice_same_neg_weight_vary_nr_samples_batch_0_sample_2 finished.\n",
      "Sampling lattice_same_neg_weight_vary_nr_samples_batch_0_sample_3 finished.\n",
      "Sampling lattice_same_neg_weight_vary_nr_samples_batch_0_sample_4 finished.\n",
      "Sampling lattice_same_neg_weight_vary_nr_samples_batch_1_sample_0 finished.\n",
      "Sampling lattice_same_neg_weight_vary_nr_samples_batch_1_sample_1 finished.\n",
      "Sampling lattice_same_neg_weight_vary_nr_samples_batch_1_sample_2 finished.\n",
      "Sampling lattice_same_neg_weight_vary_nr_samples_batch_1_sample_3 finished.\n",
      "Sampling lattice_same_neg_weight_vary_nr_samples_batch_1_sample_4 finished.\n",
      "Sampling lattice_same_neg_weight_vary_nr_samples_batch_2_sample_0 finished.\n",
      "Sampling lattice_same_neg_weight_vary_nr_samples_batch_2_sample_1 finished.\n",
      "Sampling lattice_same_neg_weight_vary_nr_samples_batch_2_sample_2 finished.\n",
      "Sampling lattice_same_neg_weight_vary_nr_samples_batch_2_sample_3 finished.\n",
      "Sampling lattice_same_neg_weight_vary_nr_samples_batch_2_sample_4 finished.\n",
      "Sampling lattice_same_neg_weight_vary_nr_samples_batch_3_sample_0 finished.\n",
      "Sampling lattice_same_neg_weight_vary_nr_samples_batch_3_sample_1 finished.\n",
      "Sampling lattice_same_neg_weight_vary_nr_samples_batch_3_sample_2 finished.\n",
      "Sampling lattice_same_neg_weight_vary_nr_samples_batch_3_sample_3 finished.\n",
      "Sampling lattice_same_neg_weight_vary_nr_samples_batch_3_sample_4 finished.\n",
      "Sampling lattice_same_neg_weight_vary_nr_samples_batch_4_sample_0 finished.\n",
      "Sampling lattice_same_neg_weight_vary_nr_samples_batch_4_sample_1 finished.\n",
      "Sampling lattice_same_neg_weight_vary_nr_samples_batch_4_sample_2 finished.\n",
      "Sampling lattice_same_neg_weight_vary_nr_samples_batch_4_sample_3 finished.\n",
      "Sampling lattice_same_neg_weight_vary_nr_samples_batch_4_sample_4 finished.\n"
     ]
    }
   ],
   "source": [
    "SGW = SampleParamsWrapper(nr_variables=20, nr_samples=10, random_seed=0, sample_init=np.zeros((20, )))\n",
    "\n",
    "SGW.graph_generator = LatticeGraphGenerator(sparsity_level=0)\n",
    "SGW.weight_assigner = Bimodal_Distr_Weight_Assigner(neg_mean=-0.1, threshold=1, std=0)\n",
    "SGW.model = TPGM(R=10)\n",
    "SGW.sampler = TPGMGibbsSampler(burn_in = 200,\n",
    "                               thinning_nr = 50)\n",
    "\n",
    "# n ** 2 log(p) is roughly 27.\n",
    "experiment_name = \"lattice_same_neg_weight_vary_nr_samples\"\n",
    "samples_per_batch = 5\n",
    "samples_file_name = \"samples.sqlite\"\n",
    "samples_numbers = [10, 30, 100, 300, 600]\n",
    "vary_nr_samples_and_generate_samples(SGW, experiment_name, samples_per_batch, samples_file_name, samples_numbers)\n"
   ],
   "metadata": {
    "collapsed": false,
    "pycharm": {
     "name": "#%%\n"
    }
   }
  },
  {
   "cell_type": "code",
   "execution_count": null,
   "metadata": {
    "pycharm": {
     "name": "#%%\n"
    }
   },
   "outputs": [],
   "source": [
    "FPW = FitParamsWrapper(random_seed=2,\n",
    "                       samples_file_name=samples_file_name)\n",
    "\n",
    "FPW.model = TPGM(R=10)\n",
    "FPW.fitter = Prox_Grad_Fitter(alpha=0.3, early_stop_criterion='likelihood')\n",
    "FPW.fit_model_and_save(fit_id=fit_id, fit_file_name=fit_file_name, parallelize=False)\n",
    "\n",
    "FPS = FitParamsWrapper.load_fit(fit_id, fit_file_name)"
   ]
  }
 ],
 "metadata": {
  "kernelspec": {
   "display_name": "Python 3",
   "language": "python",
   "name": "python3"
  },
  "language_info": {
   "codemirror_mode": {
    "name": "ipython",
    "version": 3
   },
   "file_extension": ".py",
   "mimetype": "text/x-python",
   "name": "python",
   "nbconvert_exporter": "python",
   "pygments_lexer": "ipython3",
   "version": "3.8.5"
  }
 },
 "nbformat": 4,
 "nbformat_minor": 1
}
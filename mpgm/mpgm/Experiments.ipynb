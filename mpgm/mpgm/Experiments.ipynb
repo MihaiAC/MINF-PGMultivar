{
 "cells": [
  {
   "cell_type": "code",
   "execution_count": 16,
   "outputs": [],
   "source": [
    "import numpy as np\n",
    "import matplotlib.pyplot as plt\n",
    "from typing import Optional\n",
    "from math import ceil\n",
    "\n",
    "from sqlitedict import SqliteDict\n",
    "\n",
    "from mpgm.mpgm.sample_generation.gibbs_samplers import *\n",
    "from mpgm.mpgm.sample_generation.graph_generators import *\n",
    "from mpgm.mpgm.sample_generation.weight_assigners import *\n",
    "from mpgm.mpgm.generating_samples import SampleParamsSave, SampleParamsWrapper\n",
    "\n",
    "from mpgm.mpgm.models.TPGM import TPGM\n",
    "from mpgm.mpgm.models.Model import Model\n",
    "\n",
    "from mpgm.mpgm.fitting_models import FitParamsSave, FitParamsWrapper\n"
   ],
   "metadata": {
    "collapsed": false,
    "pycharm": {
     "name": "#%%\n"
    }
   }
  },
  {
   "cell_type": "code",
   "execution_count": 17,
   "metadata": {},
   "outputs": [],
   "source": [
    "def get_average_degree(graph:np.ndarray) -> float:\n",
    "    nr_variables = graph.shape[0]\n",
    "    avg_degree = 0\n",
    "    for ii in range(nr_variables):\n",
    "        for jj in range(nr_variables):\n",
    "            if graph[ii][jj] != 0:\n",
    "                avg_degree += 1\n",
    "    return avg_degree / nr_variables\n",
    "\n",
    "def get_min_nr_edges(graph:np.ndarray, ct:float=1) -> int:\n",
    "    d = get_average_degree(graph)\n",
    "    p = graph.shape[0]\n",
    "    return ceil(ct * np.log(p) * d ** 2)"
   ]
  },
  {
   "cell_type": "code",
   "execution_count": 18,
   "outputs": [],
   "source": [
    "samples_file_name = \"samples.sqlite\"\n",
    "samples_id = \"PleaseWork\"\n",
    "SPS = SampleParamsWrapper.load_samples(\"PleaseWork\", samples_file_name)"
   ],
   "metadata": {
    "collapsed": false,
    "pycharm": {
     "name": "#%%\n"
    }
   }
  },
  {
   "cell_type": "code",
   "execution_count": 20,
   "outputs": [
    {
     "name": "stdout",
     "output_type": "stream",
     "text": [
      "[[ 0.          0.         -0.08536656  0.        ]\n",
      " [ 0.          0.         -0.01332909  0.        ]\n",
      " [-0.08536656 -0.01332909  0.         -0.01467763]\n",
      " [ 0.          0.         -0.01467763  0.        ]]\n",
      "4\n",
      "1.5\n"
     ]
    }
   ],
   "source": [
    "print(SPS.model_params['theta'])\n",
    "print(get_min_nr_edges(SPS.model_params['theta']))\n",
    "print(get_average_degree(SPS.model_params['theta']))"
   ],
   "metadata": {
    "collapsed": false,
    "pycharm": {
     "name": "#%%\n"
    }
   }
  },
  {
   "cell_type": "code",
   "execution_count": null,
   "outputs": [],
   "source": [],
   "metadata": {
    "collapsed": false,
    "pycharm": {
     "name": "#%%\n"
    }
   }
  },
  {
   "cell_type": "code",
   "execution_count": null,
   "metadata": {},
   "outputs": [],
   "source": []
  }
 ],
 "metadata": {
  "kernelspec": {
   "display_name": "Python 3",
   "language": "python",
   "name": "python3"
  },
  "language_info": {
   "codemirror_mode": {
    "name": "ipython",
    "version": 3
   },
   "file_extension": ".py",
   "mimetype": "text/x-python",
   "name": "python",
   "nbconvert_exporter": "python",
   "pygments_lexer": "ipython3",
   "version": "3.8.5"
  }
 },
 "nbformat": 4,
 "nbformat_minor": 1
}
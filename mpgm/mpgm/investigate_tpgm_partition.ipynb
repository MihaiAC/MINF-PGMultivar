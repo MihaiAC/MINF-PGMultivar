{
 "cells": [
  {
   "cell_type": "code",
   "execution_count": 21,
   "metadata": {
    "collapsed": true,
    "pycharm": {
     "is_executing": false
    }
   },
   "outputs": [],
   "source": [
    "import numpy as np\n",
    "import matplotlib.pyplot as plt\n",
    "from scipy.special import gammaln\n",
    "from functools import partial"
   ]
  },
  {
   "cell_type": "code",
   "execution_count": 29,
   "outputs": [],
   "source": [
    "def partition_exp(kk, C):\n",
    "    return C * kk - gammaln(kk+1)"
   ],
   "metadata": {
    "collapsed": false,
    "pycharm": {
     "name": "#%%\n",
     "is_executing": false
    }
   }
  },
  {
   "cell_type": "code",
   "execution_count": 26,
   "outputs": [],
   "source": [
    "def scatter(X, f_X):\n",
    "    fig = plt.figure()\n",
    "    ax = fig.add_subplot(111)\n",
    "\n",
    "    ax.scatter(X, f_X)\n",
    "    ax.set_xlabel('X-axis')\n",
    "    ax.set_ylabel('Y-axis')\n",
    "\n",
    "    ax.spines['bottom'].set_color('white')\n",
    "    ax.xaxis.label.set_color('white')\n",
    "    ax.tick_params(axis='x', colors='white')\n",
    "\n",
    "    ax.spines['left'].set_color('white')\n",
    "    ax.yaxis.label.set_color('white')\n",
    "    ax.tick_params(axis='y', colors='white')"
   ],
   "metadata": {
    "collapsed": false,
    "pycharm": {
     "name": "#%%\n",
     "is_executing": false
    }
   }
  },
  {
   "cell_type": "code",
   "execution_count": 30,
   "outputs": [],
   "source": [
    "def plot_for_RC(R, C):\n",
    "    partition_exp_part = partial(partition_exp, C=C)\n",
    "    calc_partition = np.vectorize(partition_exp_part)\n",
    "    \n",
    "    X = np.arange(0, R+1)\n",
    "    f_X = calc_partition(X)\n",
    "    \n",
    "    scatter(X, f_X) "
   ],
   "metadata": {
    "collapsed": false,
    "pycharm": {
     "name": "#%%\n",
     "is_executing": false
    }
   }
  },
  {
   "cell_type": "code",
   "execution_count": 45,
   "outputs": [],
   "source": [
    "def find_the_sign_change(ls):\n",
    "    for ii in range(len(ls)-1):\n",
    "        if ls[ii] > 0 and ls[ii+1] < 0:\n",
    "            return ii\n",
    "    return -1\n",
    "            "
   ],
   "metadata": {
    "collapsed": false,
    "pycharm": {
     "name": "#%%\n",
     "is_executing": false
    }
   }
  },
  {
   "cell_type": "code",
   "execution_count": 46,
   "outputs": [],
   "source": [
    "def calc_stats_RCs(R, Cs):\n",
    "    R_zero = []\n",
    "    min_val = []\n",
    "    max_val = []\n",
    "    \n",
    "    for C in Cs:\n",
    "        partition_exp_part = partial(partition_exp, C=C)\n",
    "        calc_partition = np.vectorize(partition_exp_part)\n",
    "        \n",
    "        X = np.arange(0, R+1)\n",
    "        f_X = calc_partition(X)\n",
    "        \n",
    "        min_val.append(min(f_X))\n",
    "        max_val.append(max(f_X))\n",
    "        R_zero.append(find_the_sign_change(f_X))\n",
    "    \n",
    "    return R_zero, min_val, max_val"
   ],
   "metadata": {
    "collapsed": false,
    "pycharm": {
     "name": "#%%\n",
     "is_executing": false
    }
   }
  },
  {
   "cell_type": "code",
   "execution_count": 49,
   "outputs": [
    {
     "data": {
      "text/plain": "<Figure size 432x288 with 1 Axes>",
      "image/png": "[encoded data removed]"
     },
     "metadata": {
      "needs_background": "dark"
     },
     "output_type": "display_data"
    },
    {
     "data": {
      "text/plain": "<Figure size 432x288 with 1 Axes>",
      "image/png": "[encoded data removed]"
     },
     "metadata": {
      "needs_background": "dark"
     },
     "output_type": "display_data"
    },
    {
     "data": {
      "text/plain": "<Figure size 432x288 with 1 Axes>",
      "image/png": "[encoded data removed]"
     },
     "metadata": {
      "needs_background": "dark"
     },
     "output_type": "display_data"
    }
   ],
   "source": [
    "Cs = np.array([-10, -5, -2, -1, -0.5, -0.1, 0, 0.1, 0.5, 1, 2, 5, 10])\n",
    "R = 100\n",
    "R_zero, min_val, max_val = calc_stats_RCs(R, Cs)\n",
    "\n",
    "scatter(Cs, R_zero)\n",
    "scatter(Cs, min_val)\n",
    "scatter(Cs, max_val)"
   ],
   "metadata": {
    "collapsed": false,
    "pycharm": {
     "name": "#%%\n",
     "is_executing": false
    }
   }
  },
  {
   "cell_type": "code",
   "execution_count": 48,
   "outputs": [
    {
     "name": "stdout",
     "text": [
      "[-0.0, -0.0, -0.0, -0.0, -0.0, 0.0, 0.1, 0.5, 1.3068528194400546, 636.2606244444365]\n"
     ],
     "output_type": "stream"
    }
   ],
   "source": [
    "print(max_val)"
   ],
   "metadata": {
    "collapsed": false,
    "pycharm": {
     "name": "#%%\n",
     "is_executing": false
    }
   }
  },
  {
   "cell_type": "code",
   "execution_count": null,
   "outputs": [],
   "source": [
    "\n"
   ],
   "metadata": {
    "collapsed": false,
    "pycharm": {
     "name": "#%%\n"
    }
   }
  }
 ],
 "metadata": {
  "kernelspec": {
   "display_name": "Python 3",
   "language": "python",
   "name": "python3"
  },
  "language_info": {
   "codemirror_mode": {
    "name": "ipython",
    "version": 2
   },
   "file_extension": ".py",
   "mimetype": "text/x-python",
   "name": "python",
   "nbconvert_exporter": "python",
   "pygments_lexer": "ipython2",
   "version": "2.7.6"
  },
  "pycharm": {
   "stem_cell": {
    "cell_type": "raw",
    "source": [],
    "metadata": {
     "collapsed": false
    }
   }
  }
 },
 "nbformat": 4,
 "nbformat_minor": 0
}
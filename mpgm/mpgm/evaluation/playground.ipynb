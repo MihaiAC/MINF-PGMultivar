{
 "cells": [
  {
   "cell_type": "code",
   "execution_count": 13,
   "metadata": {
    "pycharm": {
     "name": "#%%\n"
    }
   },
   "outputs": [],
   "source": [
    "import numpy as np\n",
    "from mpgm.mpgm.sample_generation.graph_generators import HubGraphGenerator"
   ]
  },
  {
   "cell_type": "code",
   "execution_count": 61,
   "metadata": {
    "pycharm": {
     "name": "#%%\n"
    }
   },
   "outputs": [],
   "source": [
    "def generate_lpgm_samples(lambda_true:float, lambda_noise:float, adj_matrix:np.ndarray, \n",
    "                         nr_samples:int) -> np.ndarray:\n",
    "    A = adj_matrix\n",
    "    n = nr_samples\n",
    "    p = A.shape[0]\n",
    "    \n",
    "    B = create_B(A)\n",
    "    \n",
    "    C = lambda_true * A\n",
    "    upper_tri = C[np.triu_indices(p, 1)]\n",
    "    nonzero_tri = upper_tri[upper_tri != 0]\n",
    "    Y_lambdas = np.append(np.repeat(lambda_true, p), nonzero_tri)\n",
    "    Y = np.zeros((len(Y_lambdas), n))\n",
    "    for ii, ylam in enumerate(Y_lambdas):\n",
    "        Y[ii, :] = np.random.poisson(ylam, (1, n))\n",
    "    \n",
    "    X = np.matmul(B, Y) # X is p x n\n",
    "    X = np.transpose(X) # X is now n x p\n",
    "    \n",
    "    # Add noise.\n",
    "    E = np.random.poisson(lambda_noise, (n, p))\n",
    "    X = X + E\n",
    "    return X\n",
    "\n",
    "def create_B(adj_matrix:np.ndarray) -> np.ndarray:\n",
    "    A = adj_matrix\n",
    "    nrows = A.shape[0]\n",
    "    ncols = A.shape[1]\n",
    "    if nrows != ncols:\n",
    "        raise Exception(\"create_B: Adjacency matrix is not square.\")\n",
    "    \n",
    "    B = np.identity(nrows)\n",
    "    for ii in range(nrows):\n",
    "        for jj in range(ii+1, ncols):\n",
    "            if A[ii][jj] == 1:\n",
    "                new_col = np.zeros((nrows, 1))\n",
    "                new_col[ii] = 1\n",
    "                new_col[jj] = 1\n",
    "                B = np.hstack((B, new_col))\n",
    "    \n",
    "    return B"
   ]
  },
  {
   "cell_type": "code",
   "execution_count": 60,
   "metadata": {},
   "outputs": [
    {
     "name": "stdout",
     "output_type": "stream",
     "text": [
      "[[ 1.  5.  3.  8.]\n",
      " [ 2.  7.  5.  6.]\n",
      " [ 0.  2.  2.  2.]\n",
      " [ 0.  7.  1.  6.]\n",
      " [ 1.  2.  4.  4.]\n",
      " [ 2.  0.  4.  5.]\n",
      " [ 3.  1.  4.  5.]\n",
      " [ 3.  3.  4. 10.]\n",
      " [ 3.  2.  5.  5.]\n",
      " [ 1.  2.  2.  1.]\n",
      " [ 3.  2.  5.  2.]\n",
      " [ 2.  5.  3.  1.]\n",
      " [ 1.  2.  4.  4.]\n",
      " [ 2.  6.  3.  6.]\n",
      " [ 4.  3.  3.  5.]\n",
      " [ 2.  3.  8.  6.]\n",
      " [ 2.  2.  0.  5.]\n",
      " [ 2.  0.  4.  3.]\n",
      " [ 7.  2.  2.  8.]\n",
      " [ 1.  2.  3.  6.]]\n"
     ]
    }
   ],
   "source": [
    "np.random.seed(1)\n",
    "gg = HubGraphGenerator(nr_hubs=1)\n",
    "A = gg.generate_graph(nr_variables=4)\n",
    "print(generate_lpgm_samples(1, 0.5, A, 20))"
   ]
  },
  {
   "cell_type": "code",
   "execution_count": 30,
   "metadata": {},
   "outputs": [],
   "source": []
  },
  {
   "cell_type": "code",
   "execution_count": 54,
   "metadata": {},
   "outputs": [
    {
     "data": {
      "text/plain": [
       "array([[0., 0., 0., 1.],\n",
       "       [0., 0., 0., 1.],\n",
       "       [0., 0., 0., 1.],\n",
       "       [1., 1., 1., 0.]])"
      ]
     },
     "execution_count": 54,
     "metadata": {},
     "output_type": "execute_result"
    }
   ],
   "source": [
    "A.T"
   ]
  },
  {
   "cell_type": "code",
   "execution_count": 55,
   "metadata": {},
   "outputs": [
    {
     "data": {
      "text/plain": [
       "array([[0., 0., 0., 1.],\n",
       "       [0., 0., 0., 1.],\n",
       "       [0., 0., 0., 1.],\n",
       "       [1., 1., 1., 0.]])"
      ]
     },
     "execution_count": 55,
     "metadata": {},
     "output_type": "execute_result"
    }
   ],
   "source": [
    "np.transpose(A)"
   ]
  },
  {
   "cell_type": "code",
   "execution_count": null,
   "metadata": {},
   "outputs": [],
   "source": []
  }
 ],
 "metadata": {
  "kernelspec": {
   "display_name": "Python 3",
   "language": "python",
   "name": "python3"
  },
  "language_info": {
   "codemirror_mode": {
    "name": "ipython",
    "version": 3
   },
   "file_extension": ".py",
   "mimetype": "text/x-python",
   "name": "python",
   "nbconvert_exporter": "python",
   "pygments_lexer": "ipython3",
   "version": "3.8.5"
  }
 },
 "nbformat": 4,
 "nbformat_minor": 1
}
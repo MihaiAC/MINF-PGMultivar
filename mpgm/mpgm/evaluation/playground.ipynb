{
 "cells": [
  {
   "cell_type": "code",
   "execution_count": 0,
   "metadata": {
    "collapsed": true
   },
   "outputs": [],
   "source": [
    "def get_fit_sample_name(experiment_name:str, batch_nr:int, sample_nr:int) -> str:\n",
    "    return \"fit_\" + get_sample_name(experiment_name, batch_nr, sample_nr)\n",
    "\n",
    "def generate_batch_samples_vary_seed(SPW:SampleParamsWrapper, experiment_name:str, batch_nr:int, samples_per_batch:int,\n",
    "                                     random_seeds:List[int], samples_file_name:str):\n",
    "    assert samples_per_batch == len(random_seeds), \"Must have the same number of random seeds as the number of samples you \" \\\n",
    "                                            \"want to generate\"\n",
    "    for sample_nr in range(samples_per_batch):\n",
    "        SPW.random_seed = random_seeds[sample_nr]\n",
    "        \n",
    "        sample_name = get_sample_name(experiment_name, batch_nr, sample_nr)\n",
    "        \n",
    "        SPW.generate_samples_and_save(sample_name, samples_file_name)\n",
    "        \n",
    "        print(\"Sampling \" + sample_name + \" finished.\")\n",
    "\n",
    "def vary_nr_samples_and_generate_samples(SPW:SampleParamsWrapper, experiment_name:str, samples_per_batch:int,\n",
    "                                         samples_file_name:str, samples_numbers:List[int]):\n",
    "    nr_batches = len(samples_numbers)\n",
    "    random_seeds = list(range(samples_per_batch))\n",
    "    for batch_nr, nr_samples in enumerate(samples_numbers):\n",
    "        SPW.nr_samples = nr_samples\n",
    "        generate_batch_samples_vary_seed(SPW, experiment_name, batch_nr, samples_per_batch, random_seeds,\n",
    "                                         samples_file_name)\n",
    "\n",
    "\n",
    "def fit_all_batches_all_samples(FPW:FitParamsWrapper, fit_file_name:str, experiment_name:str, samples_per_batch:int,\n",
    "                                nr_batches:int, theta_init:Optional[np.ndarray]=None):\n",
    "\n",
    "    for batch_nr in range(nr_batches):\n",
    "        for sample_nr in range(samples_per_batch):\n",
    "            sample_name = get_sample_name(experiment_name, batch_nr, sample_nr)\n",
    "            fit_id = get_fit_sample_name(experiment_name, batch_nr, sample_nr)\n",
    "            FPW.fit_model_and_save(fit_id, fit_file_name, samples_id=sample_name, theta_init=theta_init)\n",
    "\n",
    "\n",
    "\n",
    "experiment_name = \"lattice_same_neg_weight_vary_nr_samples\"\n",
    "samples_file_name = \"samples.sqlite\"\n",
    "fit_file_name = \"fit_models.sqlite\"\n",
    "samples_per_batch = 5\n",
    "samples_numbers = [10, 30, 100, 300, 600]\n",
    "nr_batches = len(samples_numbers)\n",
    "# SGW = SampleParamsWrapper(nr_variables=20, nr_samples=10, random_seed=0, sample_init=np.zeros((20, )))\n",
    "#\n",
    "# SGW.graph_generator = LatticeGraphGenerator(sparsity_level=0)\n",
    "# SGW.weight_assigner = Bimodal_Distr_Weight_Assigner(neg_mean=-0.1, threshold=1, std=0)\n",
    "# SGW.model = TPGM(R=10)\n",
    "# SGW.sampler = TPGMGibbsSampler(burn_in = 200,\n",
    "#                                thinning_nr = 50)\n",
    "\n",
    "#\n",
    "# vary_nr_samples_and_generate_samples(SGW, experiment_name, samples_per_batch, samples_file_name, samples_numbers)\n",
    "\n",
    "\n",
    "FPW = FitParamsWrapper(random_seed=2,\n",
    "                       samples_file_name=samples_file_name)\n",
    "\n",
    "FPW.model = TPGM(R=10)\n",
    "FPW.fitter = Prox_Grad_Fitter(alpha=0.3, early_stop_criterion='likelihood')\n",
    "\n",
    "fit_all_batches_all_samples(FPW, fit_file_name, experiment_name, samples_per_batch, nr_batches, )"
   ]
  },
  {
   "cell_type": "code",
   "execution_count": 1,
   "metadata": {},
   "outputs": [],
   "source": [
    "from mpgm.mpgm.model_fitters.prox_grad_fitters import Prox_Grad_Fitter\n",
    "from mpgm.mpgm.evaluation.evaluation_metrics import *\n",
    "from typing import List"
   ]
  },
  {
   "cell_type": "code",
   "execution_count": null,
   "metadata": {},
   "outputs": [],
   "source": [
    "class Experiment():\n",
    "    def __init__(self, experiment_name:str, random_seeds:List[int], SPW:SampleParamsWrapper):\n",
    "        self.nr_samples_list = nr_samples_list\n",
    "    \n",
    "    def get_sample_name(self, experiment_name:str, batch_nr:int, sample_nr:int) -> str:\n",
    "        sample_name = experiment_name + \"_batch_\" + str(batch_nr) + \"_sample_\" + str(sample_nr)\n",
    "        return sample_name\n",
    "    \n",
    "    "
   ]
  }
 ],
 "metadata": {
  "kernelspec": {
   "display_name": "Python 3",
   "language": "python",
   "name": "python3"
  },
  "language_info": {
   "codemirror_mode": {
    "name": "ipython",
    "version": 3
   },
   "file_extension": ".py",
   "mimetype": "text/x-python",
   "name": "python",
   "nbconvert_exporter": "python",
   "pygments_lexer": "ipython3",
   "version": "3.8.5"
  }
 },
 "nbformat": 4,
 "nbformat_minor": 1
}
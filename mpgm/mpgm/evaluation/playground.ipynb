{
 "cells": [
  {
   "cell_type": "code",
   "execution_count": 6,
   "metadata": {
    "pycharm": {
     "name": "#%%\n"
    }
   },
   "outputs": [],
   "source": [
    "from generating_samples import *\n",
    "from fitting_models import *\n",
    "from evaluation_metrics import *"
   ]
  },
  {
   "cell_type": "code",
   "execution_count": 52,
   "metadata": {},
   "outputs": [
    {
     "name": "stderr",
     "output_type": "stream",
     "text": [
      "100%|██████████| 5001/5001 [00:01<00:00, 2512.17it/s]\n"
     ]
    }
   ],
   "source": [
    "sqlite_file_name = \"samples.sqlite\"\n",
    "\n",
    "SGW = SampleParamsWrapper(nr_variables=5,\n",
    "                          nr_samples=50,\n",
    "                          random_seed=0,\n",
    "                          sample_init=np.zeros((5, )))\n",
    "\n",
    "SGW.graph_generator = HubGraphGenerator(nr_hubs=1)\n",
    "SGW.weight_assigner = Bimodal_Distr_Weight_Assigner(neg_mean=-1, pos_mean=0.5, \n",
    "                                                    threshold=1, std=0)\n",
    "SGW.model = TPGM(R=10)\n",
    "SGW.sampler = TPGMGibbsSampler(burn_in=100, thinning_nr=100)\n",
    "\n",
    "SGW.generate_samples_and_save(\"TestTPGM\", sqlite_file_name)\n",
    "SPS = SampleParamsWrapper.load_samples(\"TestTPGM\", sqlite_file_name)"
   ]
  },
  {
   "cell_type": "code",
   "execution_count": 65,
   "metadata": {},
   "outputs": [
    {
     "name": "stdout",
     "output_type": "stream",
     "text": [
      "\n",
      "Parameters for node 0 converged in 1 iterations.\n",
      "\n",
      "Parameters for node 1 converged in 1 iterations.\n",
      "\n",
      "Parameters for node 3 converged in 1 iterations.\n",
      "\n",
      "Parameters for node 4 converged in 1 iterations.\n",
      "\n",
      "Parameters for node 2 converged in 5 iterations.\n",
      "[[ 0.          0.          0.          0.          0.        ]\n",
      " [ 0.          0.          0.          0.          0.        ]\n",
      " [-0.14188743 -0.21012109 -0.0549458  -0.11046193 -0.06427448]\n",
      " [ 0.          0.          0.          0.          0.        ]\n",
      " [ 0.          0.          0.          0.          0.        ]]\n"
     ]
    }
   ],
   "source": [
    "samples_file_name = \"samples.sqlite\"\n",
    "samples_id = \"TestTPGM\"\n",
    "\n",
    "fit_id = \"debugEverything\"\n",
    "fit_file_name = \"fit_models.sqlite\"\n",
    "\n",
    "FPW = FitParamsWrapper(random_seed=2,\n",
    "                       samples_file_name=samples_file_name,\n",
    "                       samples_id=samples_id)\n",
    "\n",
    "FPW.model = TPGM(R=10)\n",
    "FPW.fitter = Prox_Grad_Fitter(alpha=0.5, early_stop_criterion='likelihood')\n",
    "\n",
    "theta_final = FPW.fit_model_and_save(fit_id=fit_id,\n",
    "                                     fit_file_name=fit_file_name,\n",
    "                                     parallelize=True)\n",
    "\n",
    "print(theta_final)"
   ]
  },
  {
   "cell_type": "code",
   "execution_count": 58,
   "metadata": {},
   "outputs": [
    {
     "name": "stdout",
     "output_type": "stream",
     "text": [
      "[[ 0.  0. -1.  0.  0.]\n",
      " [ 0.  0. -1.  0.  0.]\n",
      " [-1. -1.  0. -1. -1.]\n",
      " [ 0.  0. -1.  0.  0.]\n",
      " [ 0.  0. -1.  0.  0.]]\n"
     ]
    }
   ],
   "source": [
    "theta_init = SGW.model.theta\n",
    "print(theta_init)"
   ]
  },
  {
   "cell_type": "code",
   "execution_count": 71,
   "metadata": {},
   "outputs": [
    {
     "name": "stdout",
     "output_type": "stream",
     "text": [
      "(1.0, 0.0, 1.0)\n",
      "0.0\n",
      "0.6\n",
      "0.6\n",
      "0.6\n",
      "0.6\n"
     ]
    }
   ],
   "source": [
    "ww_min = EvalMetrics.SymmModes.WW_MIN\n",
    "ww_max = EvalMetrics.SymmModes.WW_MAX\n",
    "\n",
    "print(EvalMetrics.calculate_tpr_fpr_acc_nonzero(theta_init, theta_final, ww_max))\n",
    "print(EvalMetrics.calculate_signed_recall(theta_init, theta_final, ww_max))\n",
    "print(EvalMetrics.calculate_percentage_symmetric_signs(theta_final))\n",
    "print(EvalMetrics.calculate_percentage_symmetric_values(theta_final))\n",
    "print(EvalMetrics.calculate_percentage_symmetric_nonzero(theta_final))\n",
    "print(EvalMetrics.calculate_percentage_sparsity(theta_init))"
   ]
  },
  {
   "cell_type": "code",
   "execution_count": 70,
   "metadata": {},
   "outputs": [
    {
     "name": "stdout",
     "output_type": "stream",
     "text": [
      "[[ 0.          0.         -0.14188743  0.          0.        ]\n",
      " [ 0.          0.         -0.21012109  0.          0.        ]\n",
      " [-0.14188743 -0.21012109 -0.0549458  -0.11046193 -0.06427448]\n",
      " [ 0.          0.         -0.11046193  0.          0.        ]\n",
      " [ 0.          0.         -0.06427448  0.          0.        ]]\n"
     ]
    }
   ],
   "source": [
    "print(EvalMetrics.copy_and_symmetrize_matrix(theta_final, ww_max))"
   ]
  },
  {
   "cell_type": "code",
   "execution_count": null,
   "metadata": {},
   "outputs": [],
   "source": []
  }
 ],
 "metadata": {
  "kernelspec": {
   "display_name": "Python 3",
   "language": "python",
   "name": "python3"
  },
  "language_info": {
   "codemirror_mode": {
    "name": "ipython",
    "version": 3
   },
   "file_extension": ".py",
   "mimetype": "text/x-python",
   "name": "python",
   "nbconvert_exporter": "python",
   "pygments_lexer": "ipython3",
   "version": "3.8.5"
  }
 },
 "nbformat": 4,
 "nbformat_minor": 1
}
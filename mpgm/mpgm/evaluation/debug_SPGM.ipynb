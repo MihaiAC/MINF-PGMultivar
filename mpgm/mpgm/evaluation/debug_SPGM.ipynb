{
 "cells": [
  {
   "cell_type": "code",
   "execution_count": 1,
   "metadata": {},
   "outputs": [],
   "source": [
    "from mpgm.mpgm.evaluation.generating_samples import *\n",
    "from mpgm.mpgm.evaluation.evaluation_metrics import EvalMetrics\n",
    "import matplotlib.pyplot as plt\n",
    "import numpy as np\n",
    "import time"
   ]
  },
  {
   "cell_type": "code",
   "execution_count": 2,
   "metadata": {},
   "outputs": [
    {
     "name": "stderr",
     "output_type": "stream",
     "text": [
      "/home/mcio/miniconda3/envs/mpgm/lib/python3.8/site-packages/ipykernel/ipkernel.py:287: DeprecationWarning: `should_run_async` will not call `transform_cell` automatically in the future. Please pass the result to `transformed_cell` argument and any exception that happen during thetransform in `preprocessing_exc_tuple` in IPython 7.17 and above.\n",
      "  and should_run_async(code)\n",
      "/home/mcio/miniconda3/envs/mpgm/lib/python3.8/site-packages/qpsolvers/osqp_.py:101: UserWarning: Converted P to scipy.sparse.csc.csc_matrix\n",
      "For best performance, build P as a csc_matrix rather than as a numpy.ndarray\n",
      "  warn(conversion_warning(\"P\"))\n",
      "/home/mcio/miniconda3/envs/mpgm/lib/python3.8/site-packages/qpsolvers/osqp_.py:122: UserWarning: Converted G to scipy.sparse.csc.csc_matrix\n",
      "For best performance, build G as a csc_matrix rather than as a numpy.ndarray\n",
      "  warn(conversion_warning(\"G\"))\n"
     ]
    }
   ],
   "source": [
    "from mpgm.mpgm.model_fitters.prox_grad_fitters import Prox_Grad_Fitter, Constrained_Prox_Grad_Fitter\n",
    "from mpgm.mpgm.evaluation.evaluation_metrics import *\n",
    "\n",
    "from mpgm.mpgm.sample_generation.samplers import *\n",
    "\n",
    "from mpgm.mpgm.evaluation.preprocessing import ClampMax\n",
    "\n",
    "import numpy as np\n",
    "import matplotlib.pyplot as plt\n",
    "\n",
    "\n",
    "samples_file_name = \"../samples.sqlite\"\n",
    "fit_file_name = \"../fit_models.sqlite\"\n",
    "nr_variables = 10\n",
    "nr_samples = 150\n",
    "alpha = 0.5\n",
    "\n",
    "# SGW = SampleParamsWrapper(nr_variables=nr_variables,\n",
    "#                           sample_init=np.zeros((nr_variables, )),\n",
    "#                           nr_samples=nr_samples,\n",
    "#                           random_seed=1)\n",
    "#\n",
    "# SGW.graph_generator = LatticeGraphGenerator(sparsity_level=0)\n",
    "# # SGW.weight_assigner = Constant_Weight_Assigner(ct_weight=-0.1)\n",
    "# SGW.weight_assigner = Dummy_Weight_Assigner()\n",
    "# # SGW.model = TPGM(R=10)\n",
    "# SGW.model = Model(theta=np.zeros((nr_samples, nr_variables)))\n",
    "# # SGW.sampler = TPGMGibbsSampler(burn_in=200, thinning_nr=150)\n",
    "# SGW.sampler = SIPRVSampler(lambda_true=1, lambda_noise=0.5)\n",
    "# SGW.generate_samples_and_save(\"SPGM_debug\", samples_file_name)\n",
    "\n",
    "samples_id = \"SPGM_debug\"\n",
    "FPW = FitParamsWrapper(random_seed=0,\n",
    "                       samples_file_name=samples_file_name)\n",
    "FPW.model = SPGM(R=10, R0=5)\n",
    "\n",
    "FPW.fitter = Constrained_Prox_Grad_Fitter(alpha=10,\n",
    "                                          constraint_solver='osqp',\n",
    "                                          save_regularization_paths=True,\n",
    "                                          init_step_size=0.1,\n",
    "                                          early_stop_criterion='likelihood')\n",
    "\n",
    "FPW.preprocessor = ClampMax(10)\n",
    "\n",
    "theta_init = np.random.normal(0, 0.1, (nr_variables, nr_variables))\n",
    "theta_fit = FPW.fit_model_and_save(fit_id=\"SPGM_debug\",\n",
    "                                   fit_file_name=fit_file_name,\n",
    "                                   parallelize=False,\n",
    "                                   samples_file_name=samples_file_name,\n",
    "                                   samples_id=\"SPGM_debug\",\n",
    "                                   theta_init=theta_init)\n",
    "\n",
    "regularization_paths = FPW.FPS.regularization_paths"
   ]
  },
  {
   "cell_type": "code",
   "execution_count": 3,
   "metadata": {},
   "outputs": [
    {
     "data": {
      "text/plain": [
       "(10, 10)"
      ]
     },
     "execution_count": 3,
     "metadata": {},
     "output_type": "execute_result"
    }
   ],
   "source": [
    "FPW.FPS.theta_fit.shape"
   ]
  },
  {
   "cell_type": "code",
   "execution_count": 7,
   "metadata": {},
   "outputs": [
    {
     "name": "stderr",
     "output_type": "stream",
     "text": [
      "/home/mcio/miniconda3/envs/mpgm/lib/python3.8/site-packages/ipykernel/ipkernel.py:287: DeprecationWarning: `should_run_async` will not call `transform_cell` automatically in the future. Please pass the result to `transformed_cell` argument and any exception that happen during thetransform in `preprocessing_exc_tuple` in IPython 7.17 and above.\n",
      "  and should_run_async(code)\n"
     ]
    },
    {
     "data": {
      "image/png": "[encoded data removed]",
      "text/plain": [
       "<Figure size 432x288 with 1 Axes>"
      ]
     },
     "metadata": {
      "needs_background": "light"
     },
     "output_type": "display_data"
    },
    {
     "name": "stdout",
     "output_type": "stream",
     "text": [
      "[[ 2.73496615e-05  1.20037687e-04  1.21212382e-04  1.21862296e-04\n",
      "   1.06966223e-04  1.06650468e-04  1.21263250e-04  1.17606885e-04\n",
      "   1.16003854e-04  1.02910613e-04]\n",
      " [ 2.43220810e-02  1.81641501e-03 -8.83132303e-24  9.52854510e-02\n",
      "   3.22023622e-02  6.09977019e-02  9.38194947e-02  7.38219409e-02\n",
      "  -7.05813757e-02  2.05856879e-02]\n",
      " [ 4.49824736e-25 -4.41070249e-02 -2.19774633e-24  4.49824736e-25\n",
      "   4.59708055e-24  3.46625219e-02  1.97558069e-01  4.49824736e-25\n",
      "   8.35691588e-02  4.87785556e-24]\n",
      " [ 7.06730019e-03  7.96952453e-02  6.28027836e-02 -9.44443197e-02\n",
      "   4.26199563e-24 -7.88512396e-26  4.52500945e-24  2.75986210e-02\n",
      "  -2.65975872e-02  1.18072172e-01]\n",
      " [ 6.98843527e-25  9.43124462e-02  1.74972922e-23  1.63904902e-02\n",
      "   8.70573133e-24  4.09944201e-24  2.31773461e-02 -2.62505821e-23\n",
      "  -1.58805782e-23  1.22827880e-01]\n",
      " [ 5.65761344e-02 -3.33387216e-24  4.79323704e-03 -4.34099943e-23\n",
      "   3.68153732e-23  1.79903643e-23 -3.27515732e-23  3.99936260e-02\n",
      "   4.94002773e-02  6.57578234e-03]\n",
      " [ 7.35270734e-23 -1.89451710e-23  2.66555865e-25  1.87235560e-02\n",
      "  -3.73518147e-23 -3.57119433e-23 -4.37219970e-24  1.56609325e-01\n",
      "   3.20681348e-23 -8.05330483e-23]\n",
      " [-4.82286461e-02  5.28444603e-02  7.92555445e-02  6.80532370e-02\n",
      "   2.26450961e-24  2.12422926e-24  1.31504333e-01 -4.02472410e-02\n",
      "   1.65176423e-02 -2.75459849e-02]\n",
      " [ 3.22767154e-02  6.75739004e-25  6.75739004e-25  6.75739004e-25\n",
      "   1.34621257e-01  6.75739004e-25  6.75739004e-25  6.75739004e-25\n",
      "  -8.77564593e-24  5.97729617e-02]\n",
      " [ 4.29138136e-02  5.86728569e-03 -1.82603775e-23  3.36657293e-23\n",
      "   4.37657102e-25  9.14935103e-02  7.68311905e-02  4.43365070e-03\n",
      "   1.37471183e-23 -1.93365092e-02]]\n"
     ]
    }
   ],
   "source": [
    "node = 3\n",
    "x = list(range(len(regularization_paths[node])))\n",
    "for param in range(nr_variables):\n",
    "    plt.plot(x, regularization_paths[node][:, param])\n",
    "plt.show()\n",
    "\n",
    "print(theta_fit)"
   ]
  },
  {
   "cell_type": "code",
   "execution_count": 20,
   "metadata": {},
   "outputs": [
    {
     "name": "stderr",
     "output_type": "stream",
     "text": [
      "/home/mcio/miniconda3/envs/mpgm/lib/python3.8/site-packages/ipykernel/ipkernel.py:287: DeprecationWarning: `should_run_async` will not call `transform_cell` automatically in the future. Please pass the result to `transformed_cell` argument and any exception that happen during thetransform in `preprocessing_exc_tuple` in IPython 7.17 and above.\n",
      "  and should_run_async(code)\n"
     ]
    },
    {
     "data": {
      "image/png": "[encoded data removed]",
      "text/plain": [
       "<Figure size 432x288 with 1 Axes>"
      ]
     },
     "metadata": {
      "needs_background": "light"
     },
     "output_type": "display_data"
    }
   ],
   "source": [
    "x = np.array([1, 0.8, 0.9, 0.7, 0.6, 0.5, 0.4, 0.3, 0.2, 0.1])\n",
    "y = np.array([1, 0.8, 0.9, 0.7, 0.6, 0.5, 0.4, 0.3, 0.2, 0.1])\n",
    "x2 = x + 0.1\n",
    "y2 = y + 0.2\n",
    "plt.plot(x, y, label='x')\n",
    "plt.plot(x2, y2, label='y')\n",
    "plt.legend()\n",
    "plt.show()"
   ]
  },
  {
   "cell_type": "code",
   "execution_count": 9,
   "metadata": {},
   "outputs": [],
   "source": [
    "class Boo():\n",
    "    def f(self, a, b, c):\n",
    "        d = dict(**locals())\n",
    "        del d['self']\n",
    "        print(d)"
   ]
  },
  {
   "cell_type": "code",
   "execution_count": 10,
   "metadata": {},
   "outputs": [
    {
     "name": "stdout",
     "output_type": "stream",
     "text": [
      "{'a': 1, 'b': 2, 'c': 3}\n"
     ]
    }
   ],
   "source": [
    "b = Boo()\n",
    "b.f(1,2,3)"
   ]
  },
  {
   "cell_type": "code",
   "execution_count": 11,
   "metadata": {},
   "outputs": [
    {
     "data": {
      "text/plain": [
       "'animal1_animal2'"
      ]
     },
     "execution_count": 11,
     "metadata": {},
     "output_type": "execute_result"
    }
   ],
   "source": [
    "'_'.join(['animal1', 'animal2'])"
   ]
  },
  {
   "cell_type": "code",
   "execution_count": 20,
   "metadata": {},
   "outputs": [],
   "source": [
    "def generate_experiment_name(model:str,\n",
    "                             graph_type:str,\n",
    "                             sample_gen_method:str,\n",
    "                             experiment_shorthand:str,\n",
    "                             early_stop_method:str,\n",
    "                             *args) -> str:\n",
    "    function_args = [model, graph_type, sample_gen_method, experiment_shorthand, early_stop_method] + list(args)\n",
    "    return '_'.join(function_args)"
   ]
  },
  {
   "cell_type": "code",
   "execution_count": 21,
   "metadata": {},
   "outputs": [
    {
     "data": {
      "text/plain": [
       "'TPGM_lattice_SIPRV_vary_alpha_weight_sadge'"
      ]
     },
     "execution_count": 21,
     "metadata": {},
     "output_type": "execute_result"
    }
   ],
   "source": [
    "generate_experiment_name('TPGM', 'lattice', 'SIPRV', 'vary_alpha', 'weight', 'sadge')"
   ]
  },
  {
   "cell_type": "code",
   "execution_count": null,
   "metadata": {},
   "outputs": [],
   "source": []
  }
 ],
 "metadata": {
  "kernelspec": {
   "display_name": "Python 3",
   "language": "python",
   "name": "python3"
  },
  "language_info": {
   "codemirror_mode": {
    "name": "ipython",
    "version": 3
   },
   "file_extension": ".py",
   "mimetype": "text/x-python",
   "name": "python",
   "nbconvert_exporter": "python",
   "pygments_lexer": "ipython3",
   "version": "3.8.5"
  }
 },
 "nbformat": 4,
 "nbformat_minor": 1
}
{
 "cells": [
  {
   "cell_type": "code",
   "execution_count": 7,
   "metadata": {},
   "outputs": [],
   "source": [
    "import time"
   ]
  },
  {
   "cell_type": "code",
   "execution_count": 1,
   "metadata": {},
   "outputs": [],
   "source": [
    "from mpgm.mpgm.evaluation.generating_samples import *\n",
    "from mpgm.mpgm.models.SPGM import SPGM\n",
    "import matplotlib.pyplot as plt\n",
    "import numpy as np"
   ]
  },
  {
   "cell_type": "code",
   "execution_count": 12,
   "metadata": {},
   "outputs": [
    {
     "name": "stderr",
     "output_type": "stream",
     "text": [
      "100%|██████████| 22401/22401 [03:39<00:00, 102.07it/s]\n"
     ]
    },
    {
     "name": "stdout",
     "output_type": "stream",
     "text": [
      "219.48000574111938\n"
     ]
    },
    {
     "data": {
      "image/png": "[encoded data removed]",
      "text/plain": [
       "<Figure size 432x288 with 1 Axes>"
      ]
     },
     "metadata": {
      "needs_background": "light"
     },
     "output_type": "display_data"
    }
   ],
   "source": [
    "start = time.time()\n",
    "\n",
    "gg = LatticeGraphGenerator()\n",
    "wa = Constant_Weight_Assigner(-0.4)\n",
    "np.random.seed(0)\n",
    "\n",
    "G = gg.generate_graph(nr_variables=10)\n",
    "wa.assign_weights(G)\n",
    "model = SPGM(R=10, R0=5, theta=G)\n",
    "sampler = SPGMGibbsSampler(burn_in=50, thinning_nr=150)\n",
    "samples = sampler.generate_samples(model, np.zeros((10,)), 150)\n",
    "\n",
    "end = time.time()\n",
    "print(end-start)\n",
    "\n",
    "plt.hist(samples[:,0])\n",
    "plt.show()"
   ]
  },
  {
   "cell_type": "code",
   "execution_count": 13,
   "metadata": {},
   "outputs": [
    {
     "name": "stderr",
     "output_type": "stream",
     "text": [
      "100%|██████████| 22401/22401 [00:16<00:00, 1329.00it/s]\n"
     ]
    },
    {
     "name": "stdout",
     "output_type": "stream",
     "text": [
      "16.860684394836426\n"
     ]
    },
    {
     "data": {
      "image/png": "[encoded data removed]",
      "text/plain": [
       "<Figure size 432x288 with 1 Axes>"
      ]
     },
     "metadata": {
      "needs_background": "light"
     },
     "output_type": "display_data"
    }
   ],
   "source": [
    "start = time.time()\n",
    "\n",
    "gg = LatticeGraphGenerator()\n",
    "wa = Constant_Weight_Assigner(-0.4)\n",
    "np.random.seed(0)\n",
    "\n",
    "G = gg.generate_graph(nr_variables=10)\n",
    "wa.assign_weights(G)\n",
    "model = TPGM(R=10, theta=G)\n",
    "sampler = TPGMGibbsSampler(burn_in=50, thinning_nr=150)\n",
    "samples = sampler.generate_samples(model, np.zeros((10,)), 150)\n",
    "\n",
    "end = time.time()\n",
    "print(end-start)\n",
    "\n",
    "plt.hist(samples[:,0])\n",
    "plt.show()"
   ]
  },
  {
   "cell_type": "code",
   "execution_count": null,
   "metadata": {},
   "outputs": [],
   "source": []
  }
 ],
 "metadata": {
  "kernelspec": {
   "display_name": "Python 3",
   "language": "python",
   "name": "python3"
  },
  "language_info": {
   "codemirror_mode": {
    "name": "ipython",
    "version": 3
   },
   "file_extension": ".py",
   "mimetype": "text/x-python",
   "name": "python",
   "nbconvert_exporter": "python",
   "pygments_lexer": "ipython3",
   "version": "3.8.5"
  }
 },
 "nbformat": 4,
 "nbformat_minor": 1
}
